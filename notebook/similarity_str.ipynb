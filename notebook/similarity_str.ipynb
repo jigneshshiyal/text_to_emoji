{
 "cells": [
  {
   "cell_type": "code",
   "execution_count": 5,
   "metadata": {},
   "outputs": [],
   "source": [
    "import torch\n",
    "from sentence_transformers import SentenceTransformer\n",
    "import faiss\n",
    "import numpy as np\n",
    "import pandas as pd\n",
    "\n",
    "df = pd.read_csv('./data/process_emojis_no_duplicates.csv')\n",
    "\n",
    "# Load pre-trained sentence transformer model\n",
    "model = SentenceTransformer('sentence-transformers/all-mpnet-base-v2')\n",
    "\n",
    "# Generate embeddings for text_name column\n",
    "text_embeddings = model.encode(df[\"text_name\"], convert_to_numpy=True)\n",
    "\n",
    "# Normalize embeddings for cosine similarity search\n",
    "text_embeddings = text_embeddings / np.linalg.norm(text_embeddings, axis=1, keepdims=True)\n",
    "\n",
    "# Create FAISS index\n",
    "d = text_embeddings.shape[1]  # Dimension of embeddings\n",
    "index = faiss.IndexFlatIP(d)  # Cosine similarity with inner product\n",
    "index.add(text_embeddings)  # Add embeddings to the index\n",
    "\n",
    "# Function to find the closest match\n",
    "def find_closest_match(query):\n",
    "    query_embedding = model.encode([query], convert_to_numpy=True, show_progress_bar=False)\n",
    "    query_embedding = query_embedding / np.linalg.norm(query_embedding)  # Normalize\n",
    "    _, indices = index.search(query_embedding, 1)  # Search for closest match\n",
    "    return df.iloc[indices[0][0]][\"emoji\"]  # Return matching row\n",
    "\n"
   ]
  },
  {
   "cell_type": "code",
   "execution_count": null,
   "metadata": {},
   "outputs": [],
   "source": [
    "def find_closest_match(query):\n",
    "    query_embedding = model.encode([query], convert_to_numpy=True, show_progress_bar=False)\n",
    "    query_embedding = query_embedding / np.linalg.norm(query_embedding)  # Normalize\n",
    "    _, indices = index.search(query_embedding, 10)  # Search for closest match\n",
    "    return df.iloc[indices[0][0]][\"emoji\"]  # Return matching row"
   ]
  },
  {
   "cell_type": "code",
   "execution_count": 11,
   "metadata": {},
   "outputs": [
    {
     "name": "stdout",
     "output_type": "stream",
     "text": [
      "🧑 💏 ⚽ "
     ]
    }
   ],
   "source": [
    "query_text = \"i love ball\"\n",
    "\n",
    "for i in query_text.split():\n",
    "    closest_match = find_closest_match(i)\n",
    "    print(closest_match, end=\" \")"
   ]
  },
  {
   "cell_type": "code",
   "execution_count": null,
   "metadata": {},
   "outputs": [],
   "source": []
  },
  {
   "cell_type": "code",
   "execution_count": null,
   "metadata": {},
   "outputs": [],
   "source": []
  }
 ],
 "metadata": {
  "kernelspec": {
   "display_name": "env",
   "language": "python",
   "name": "python3"
  },
  "language_info": {
   "codemirror_mode": {
    "name": "ipython",
    "version": 3
   },
   "file_extension": ".py",
   "mimetype": "text/x-python",
   "name": "python",
   "nbconvert_exporter": "python",
   "pygments_lexer": "ipython3",
   "version": "3.10.10"
  }
 },
 "nbformat": 4,
 "nbformat_minor": 2
}
